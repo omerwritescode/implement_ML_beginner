{
 "cells": [
  {
   "cell_type": "code",
   "execution_count": 40,
   "id": "5a89b3e6-3a7b-40f9-9f0c-d9804108869a",
   "metadata": {},
   "outputs": [],
   "source": [
    "import pandas as pd\n",
    "from sklearn.tree import DecisionTreeClassifier   # we imported the model here\n",
    "from sklearn.model_selection import train_test_split   # we use this function for to divide the data into traning and testing sets\n",
    "from sklearn.metrics import accuracy_score   # we use this function to test the accuracy of our model"
   ]
  },
  {
   "cell_type": "code",
   "execution_count": 41,
   "id": "2bb3f77a-2f21-47d9-beb3-f1b66a9d8ced",
   "metadata": {},
   "outputs": [],
   "source": [
    "music_data = pd.read_csv('music.csv')\n",
    "x = music_data.drop(columns = ['genre'])\n",
    "y = music_data['genre']\n",
    "x_train, x_test, y_train, y_test = train_test_split(x, y, test_size = 0.2)"
   ]
  },
  {
   "cell_type": "code",
   "execution_count": 42,
   "id": "330da89e-2734-4349-b36f-6a8eebf84774",
   "metadata": {},
   "outputs": [
    {
     "data": {
      "text/plain": [
       "1.0"
      ]
     },
     "execution_count": 42,
     "metadata": {},
     "output_type": "execute_result"
    }
   ],
   "source": [
    "model = DecisionTreeClassifier()\n",
    "model.fit(x_train, y_train)\n",
    "\n",
    "predictions = model.predict(x_test)\n",
    "\n",
    "scores = accuracy_score(y_test, predictions)\n",
    "scores"
   ]
  },
  {
   "cell_type": "code",
   "execution_count": null,
   "id": "050224c0-b3d3-46da-a3c0-a4756621bd60",
   "metadata": {},
   "outputs": [],
   "source": []
  }
 ],
 "metadata": {
  "kernelspec": {
   "display_name": "Python 3 (ipykernel)",
   "language": "python",
   "name": "python3"
  },
  "language_info": {
   "codemirror_mode": {
    "name": "ipython",
    "version": 3
   },
   "file_extension": ".py",
   "mimetype": "text/x-python",
   "name": "python",
   "nbconvert_exporter": "python",
   "pygments_lexer": "ipython3",
   "version": "3.11.7"
  }
 },
 "nbformat": 4,
 "nbformat_minor": 5
}
