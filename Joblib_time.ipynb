{
 "cells": [
  {
   "cell_type": "code",
   "execution_count": 18,
   "id": "0b57db6c-9d01-42a7-ba69-939443de536a",
   "metadata": {},
   "outputs": [],
   "source": [
    "import pandas as pd\n",
    "from sklearn.tree import DecisionTreeClassifier\n",
    "import joblib as jb"
   ]
  },
  {
   "cell_type": "code",
   "execution_count": 19,
   "id": "febd38e9-4dd6-4642-87e9-de136ca34f5f",
   "metadata": {},
   "outputs": [],
   "source": [
    "# music_data = pd.read_csv('music.csv')\n",
    "# x = music_data.drop(columns = ['genre'])\n",
    "# y = music_data['genre']"
   ]
  },
  {
   "cell_type": "code",
   "execution_count": 22,
   "id": "fbc661e2-2269-4cf5-8781-e857cc268b67",
   "metadata": {},
   "outputs": [],
   "source": [
    "# model = DecisionTreeClassifier()\n",
    "# model.fit(x, y)\n",
    "\n",
    "mode = jb.load('music-recommender.joblib')"
   ]
  },
  {
   "cell_type": "code",
   "execution_count": 23,
   "id": "1d707468-0895-49fe-a054-230c47b61035",
   "metadata": {},
   "outputs": [
    {
     "name": "stderr",
     "output_type": "stream",
     "text": [
      "C:\\Users\\Dell\\AppData\\Roaming\\Python\\Python311\\site-packages\\sklearn\\base.py:464: UserWarning: X does not have valid feature names, but DecisionTreeClassifier was fitted with feature names\n",
      "  warnings.warn(\n"
     ]
    },
    {
     "data": {
      "text/plain": [
       "array(['HipHop'], dtype=object)"
      ]
     },
     "execution_count": 23,
     "metadata": {},
     "output_type": "execute_result"
    }
   ],
   "source": [
    "predictions = model.predict([[21, 1]])\n",
    "predictions"
   ]
  },
  {
   "cell_type": "code",
   "execution_count": null,
   "id": "853f2eef-aada-4e8e-8465-64b47bd84527",
   "metadata": {},
   "outputs": [],
   "source": []
  }
 ],
 "metadata": {
  "kernelspec": {
   "display_name": "Python 3 (ipykernel)",
   "language": "python",
   "name": "python3"
  },
  "language_info": {
   "codemirror_mode": {
    "name": "ipython",
    "version": 3
   },
   "file_extension": ".py",
   "mimetype": "text/x-python",
   "name": "python",
   "nbconvert_exporter": "python",
   "pygments_lexer": "ipython3",
   "version": "3.11.7"
  }
 },
 "nbformat": 4,
 "nbformat_minor": 5
}
